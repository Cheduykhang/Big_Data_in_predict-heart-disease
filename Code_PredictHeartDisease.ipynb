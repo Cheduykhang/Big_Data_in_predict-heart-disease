{
 "cells": [
  {
   "cell_type": "code",
   "execution_count": 1,
   "id": "71fb2b17-d82a-4d51-ba26-7a28c074088d",
   "metadata": {
    "id": "71fb2b17-d82a-4d51-ba26-7a28c074088d"
   },
   "outputs": [
    {
     "name": "stderr",
     "output_type": "stream",
     "text": [
      "24/12/15 17:18:42 WARN SparkSession: Using an existing Spark session; only runtime SQL configurations will take effect.\n",
      "                                                                                \r"
     ]
    }
   ],
   "source": [
    "from pyspark.sql import SparkSession\n",
    "import random\n",
    "from math import sqrt\n",
    "from pyspark.sql import functions as F\n",
    "\n",
    "# Tạo Spark Session\n",
    "spark = SparkSession.builder \\\n",
    "    .appName(\"Random Forest MapReduce\") \\\n",
    "    .getOrCreate()\n",
    "\n",
    "# Đọc dữ liệu từ CSV\n",
    "data = spark.read.csv(\"heart.csv\", header=True, inferSchema=True)"
   ]
  },
  {
   "cell_type": "code",
   "execution_count": 2,
   "id": "0T9MRcNN5pkK",
   "metadata": {
    "colab": {
     "base_uri": "https://localhost:8080/"
    },
    "id": "0T9MRcNN5pkK",
    "outputId": "c355d1b3-adf9-42dc-ddb5-27023c88e366"
   },
   "outputs": [
    {
     "name": "stdout",
     "output_type": "stream",
     "text": [
      "+---+---+---+--------+----+---+-------+-------+-----+-------+-----+---+----+------+\n",
      "|age|sex| cp|trestbps|chol|fbs|restecg|thalach|exang|oldpeak|slope| ca|thal|target|\n",
      "+---+---+---+--------+----+---+-------+-------+-----+-------+-----+---+----+------+\n",
      "| 52|  1|  0|     125| 212|  0|      1|    168|    0|    1.0|    2|  2|   3|     0|\n",
      "| 53|  1|  0|     140| 203|  1|      0|    155|    1|    3.1|    0|  0|   3|     0|\n",
      "| 70|  1|  0|     145| 174|  0|      1|    125|    1|    2.6|    0|  0|   3|     0|\n",
      "| 61|  1|  0|     148| 203|  0|      1|    161|    0|    0.0|    2|  1|   3|     0|\n",
      "| 62|  0|  0|     138| 294|  1|      1|    106|    0|    1.9|    1|  3|   2|     0|\n",
      "+---+---+---+--------+----+---+-------+-------+-----+-------+-----+---+----+------+\n",
      "only showing top 5 rows\n",
      "\n",
      "root\n",
      " |-- age: integer (nullable = true)\n",
      " |-- sex: integer (nullable = true)\n",
      " |-- cp: integer (nullable = true)\n",
      " |-- trestbps: integer (nullable = true)\n",
      " |-- chol: integer (nullable = true)\n",
      " |-- fbs: integer (nullable = true)\n",
      " |-- restecg: integer (nullable = true)\n",
      " |-- thalach: integer (nullable = true)\n",
      " |-- exang: integer (nullable = true)\n",
      " |-- oldpeak: double (nullable = true)\n",
      " |-- slope: integer (nullable = true)\n",
      " |-- ca: integer (nullable = true)\n",
      " |-- thal: integer (nullable = true)\n",
      " |-- target: integer (nullable = true)\n",
      "\n"
     ]
    }
   ],
   "source": [
    "data.show(5)\n",
    "data.printSchema()"
   ]
  },
  {
   "cell_type": "markdown",
   "id": "SJ_0kZjJKqV7",
   "metadata": {
    "id": "SJ_0kZjJKqV7"
   },
   "source": [
    "# Tiền xử lý  dữ liệu"
   ]
  },
  {
   "cell_type": "markdown",
   "id": "Tuup-wScY2ZN",
   "metadata": {
    "id": "Tuup-wScY2ZN"
   },
   "source": [
    "## Kiểm tra các giá trị NULL"
   ]
  },
  {
   "cell_type": "code",
   "execution_count": 3,
   "id": "wjQ53XNyhV2v",
   "metadata": {
    "colab": {
     "base_uri": "https://localhost:8080/"
    },
    "id": "wjQ53XNyhV2v",
    "outputId": "53e6bb81-7197-4e88-d4fa-c65155a36981"
   },
   "outputs": [
    {
     "name": "stdout",
     "output_type": "stream",
     "text": [
      "+---+---+---+--------+----+---+-------+-------+-----+-------+-----+---+----+------+\n",
      "|age|sex| cp|trestbps|chol|fbs|restecg|thalach|exang|oldpeak|slope| ca|thal|target|\n",
      "+---+---+---+--------+----+---+-------+-------+-----+-------+-----+---+----+------+\n",
      "|  0|  0|  0|       0|   0|  0|      0|      0|    0|      0|    0|  0|   0|     0|\n",
      "+---+---+---+--------+----+---+-------+-------+-----+-------+-----+---+----+------+\n",
      "\n"
     ]
    }
   ],
   "source": [
    "# Đếm giá trị null trong từng cột\n",
    "null_counts = data.select([F.sum(F.when(F.col(c).isNull(), 1).otherwise(0)).alias(c) for c in data.columns])\n",
    "null_counts.show()"
   ]
  },
  {
   "cell_type": "markdown",
   "id": "ugcdVODRIRDh",
   "metadata": {
    "id": "ugcdVODRIRDh"
   },
   "source": [
    "## Xóa các hàng trùng lặp"
   ]
  },
  {
   "cell_type": "code",
   "execution_count": 4,
   "id": "eFcPtcQAhk-B",
   "metadata": {
    "id": "eFcPtcQAhk-B"
   },
   "outputs": [],
   "source": [
    "data = data.dropDuplicates()"
   ]
  },
  {
   "cell_type": "markdown",
   "id": "HgNoxOJlK5Co",
   "metadata": {
    "id": "HgNoxOJlK5Co"
   },
   "source": [
    "# Tính toán thống kê chỉ số"
   ]
  },
  {
   "cell_type": "code",
   "execution_count": 5,
   "id": "4YqJWltfhsMZ",
   "metadata": {
    "colab": {
     "base_uri": "https://localhost:8080/"
    },
    "id": "4YqJWltfhsMZ",
    "outputId": "58c2a9da-a718-4c0c-9136-1bfd507b3549"
   },
   "outputs": [
    {
     "data": {
      "text/plain": [
       "['Age',\n",
       " 'Sex',\n",
       " 'Chest Pain',\n",
       " 'Resting_BP',\n",
       " 'Cholestrol',\n",
       " 'Fasting_Blood_Sugar',\n",
       " 'Resting_Electrocardiographic',\n",
       " 'Max_Heart_Rate',\n",
       " 'Exercise_Induced_Angina',\n",
       " 'Old_Peak',\n",
       " 'Slope',\n",
       " 'No_Major_Vessels',\n",
       " 'Thal',\n",
       " 'Target']"
      ]
     },
     "execution_count": 5,
     "metadata": {},
     "output_type": "execute_result"
    }
   ],
   "source": [
    "# Đổi tên các cột trong DataFrame PySpark\n",
    "data_visual = data.withColumnRenamed('age', 'Age') \\\n",
    "           .withColumnRenamed('sex', 'Sex') \\\n",
    "           .withColumnRenamed('cp', 'Chest Pain') \\\n",
    "           .withColumnRenamed('trestbps', 'Resting_BP') \\\n",
    "           .withColumnRenamed('chol', 'Cholestrol') \\\n",
    "           .withColumnRenamed('fbs', 'Fasting_Blood_Sugar') \\\n",
    "           .withColumnRenamed('restecg', 'Resting_Electrocardiographic') \\\n",
    "           .withColumnRenamed('thalach', 'Max_Heart_Rate') \\\n",
    "           .withColumnRenamed('exang', 'Exercise_Induced_Angina') \\\n",
    "           .withColumnRenamed('oldpeak', 'Old_Peak') \\\n",
    "           .withColumnRenamed('slope', 'Slope') \\\n",
    "           .withColumnRenamed('ca', 'No_Major_Vessels') \\\n",
    "           .withColumnRenamed('thal', 'Thal') \\\n",
    "           .withColumnRenamed('target', 'Target')\n",
    "\n",
    "# Kiểm tra tên các cột sau khi đổi\n",
    "data_visual.columns\n"
   ]
  },
  {
   "cell_type": "code",
   "execution_count": 6,
   "id": "aUSyr5tbhvkR",
   "metadata": {
    "colab": {
     "base_uri": "https://localhost:8080/"
    },
    "id": "aUSyr5tbhvkR",
    "outputId": "78724619-62d9-4c14-e3b0-561660daa963"
   },
   "outputs": [
    {
     "name": "stdout",
     "output_type": "stream",
     "text": [
      "+------+------+------------------+-----------------+------------------+---------+\n",
      "|min_bp|max_bp|           mean_bp|      variance_bp|         stddev_bp|median_bp|\n",
      "+------+------+------------------+-----------------+------------------+---------+\n",
      "|    94|   200|131.60264900662253|308.4728168797168|17.563394230037563|      130|\n",
      "+------+------+------------------+-----------------+------------------+---------+\n",
      "\n"
     ]
    }
   ],
   "source": [
    "# Tính các chỉ số thống kê cơ bản cho cột Resting_BP\n",
    "Resting_BP_sumary = data_visual.select(\n",
    "    F.min(\"Resting_BP\").alias(\"min_bp\"),\n",
    "    F.max(\"Resting_BP\").alias(\"max_bp\"),\n",
    "    F.mean(\"Resting_BP\").alias(\"mean_bp\"),\n",
    "    F.variance(\"Resting_BP\").alias(\"variance_bp\"),\n",
    "    F.stddev(\"Resting_BP\").alias(\"stddev_bp\"),\n",
    "    F.expr(\"percentile_approx(Resting_BP, 0.5)\").alias(\"median_bp\"),\n",
    ")\n",
    "Resting_BP_sumary.show()"
   ]
  },
  {
   "cell_type": "code",
   "execution_count": 7,
   "id": "mnIe8o6shw6G",
   "metadata": {
    "colab": {
     "base_uri": "https://localhost:8080/"
    },
    "id": "mnIe8o6shw6G",
    "outputId": "4db3d984-9b36-46a3-a049-7e6eedf724ef"
   },
   "outputs": [
    {
     "name": "stdout",
     "output_type": "stream",
     "text": [
      "+--------------+--------------+---------------+-------------------+-----------------+-----------------+\n",
      "|min_cholestrol|max_cholestrol|mean_cholestrol|variance_cholestrol|stddev_cholestrol|median_cholestrol|\n",
      "+--------------+--------------+---------------+-------------------+-----------------+-----------------+\n",
      "|           126|           564|          246.5|  2678.423588039868|51.75348865574057|              240|\n",
      "+--------------+--------------+---------------+-------------------+-----------------+-----------------+\n",
      "\n"
     ]
    }
   ],
   "source": [
    "# Tính các chỉ số thống kê cơ bản cho cột Cholestrol\n",
    "Cholestrol_sumary = data_visual.select(\n",
    "    F.min(\"Cholestrol\").alias(\"min_cholestrol\"),\n",
    "    F.max(\"Cholestrol\").alias(\"max_cholestrol\"),\n",
    "    F.mean(\"Cholestrol\").alias(\"mean_cholestrol\"),\n",
    "    F.variance(\"Cholestrol\").alias(\"variance_cholestrol\"),\n",
    "    F.stddev(\"Cholestrol\").alias(\"stddev_cholestrol\"),\n",
    "    F.expr(\"percentile_approx(Cholestrol, 0.5)\").alias(\"median_cholestrol\")\n",
    ")\n",
    "Cholestrol_sumary.show()"
   ]
  },
  {
   "cell_type": "code",
   "execution_count": 8,
   "id": "utSOpbQHhyIN",
   "metadata": {
    "colab": {
     "base_uri": "https://localhost:8080/"
    },
    "id": "utSOpbQHhyIN",
    "outputId": "c1e65e16-3a5d-4ad0-e776-51f2d6100021"
   },
   "outputs": [
    {
     "name": "stdout",
     "output_type": "stream",
     "text": [
      "+------------------+------------------+-------------------+-----------------------+---------------------+---------------------+\n",
      "|min_max_heart_rate|max_max_heart_rate|mean_max_heart_rate|variance_max_heart_rate|stddev_max_heart_rate|median_max_heart_rate|\n",
      "+------------------+------------------+-------------------+-----------------------+---------------------+---------------------+\n",
      "|                71|               202| 149.56953642384107|      524.5715605817253|   22.903527251969845|                  152|\n",
      "+------------------+------------------+-------------------+-----------------------+---------------------+---------------------+\n",
      "\n"
     ]
    }
   ],
   "source": [
    "# Tính các chỉ số thống kê cơ bản cho cột Max_Heart_Rate\n",
    "Max_Heart_Rate_sumary = data_visual.select(\n",
    "    F.min(\"Max_Heart_Rate\").alias(\"min_max_heart_rate\"),\n",
    "    F.max(\"Max_Heart_Rate\").alias(\"max_max_heart_rate\"),\n",
    "    F.mean(\"Max_Heart_Rate\").alias(\"mean_max_heart_rate\"),\n",
    "    F.variance(\"Max_Heart_Rate\").alias(\"variance_max_heart_rate\"),\n",
    "    F.stddev(\"Max_Heart_Rate\").alias(\"stddev_max_heart_rate\"),\n",
    "    F.expr(\"percentile_approx(Max_Heart_Rate, 0.5)\").alias(\"median_max_heart_rate\")\n",
    ")\n",
    "Max_Heart_Rate_sumary.show()"
   ]
  },
  {
   "cell_type": "code",
   "execution_count": 9,
   "id": "975p0BYhhzcF",
   "metadata": {
    "colab": {
     "base_uri": "https://localhost:8080/"
    },
    "id": "975p0BYhhzcF",
    "outputId": "65f4bbbf-a55d-4e52-ee0c-b8a0a76dca80"
   },
   "outputs": [
    {
     "name": "stdout",
     "output_type": "stream",
     "text": [
      "+------------+------------+------------------+------------------+------------------+---------------+\n",
      "|min_old_peak|max_old_peak|     mean_old_peak| variance_old_peak|   stddev_old_peak|median_old_peak|\n",
      "+------------+------------+------------------+------------------+------------------+---------------+\n",
      "|         0.0|         6.2|1.0430463576158941|1.3489714197707428|1.1614522890634564|            0.8|\n",
      "+------------+------------+------------------+------------------+------------------+---------------+\n",
      "\n"
     ]
    }
   ],
   "source": [
    "# Tính các chỉ số thống kê cơ bản cho cột Old_Peak\n",
    "Old_Peak_sumary = data_visual.select(\n",
    "    F.min(\"Old_Peak\").alias(\"min_old_peak\"),\n",
    "    F.max(\"Old_Peak\").alias(\"max_old_peak\"),\n",
    "    F.mean(\"Old_Peak\").alias(\"mean_old_peak\"),\n",
    "    F.variance(\"Old_Peak\").alias(\"variance_old_peak\"),\n",
    "    F.stddev(\"Old_Peak\").alias(\"stddev_old_peak\"),\n",
    "    F.expr(\"percentile_approx(Old_Peak, 0.5)\").alias(\"median_old_peak\")\n",
    ")\n",
    "Old_Peak_sumary.show()"
   ]
  },
  {
   "cell_type": "code",
   "execution_count": 10,
   "id": "XPwXeYRzhtt1",
   "metadata": {
    "colab": {
     "base_uri": "https://localhost:8080/"
    },
    "id": "XPwXeYRzhtt1",
    "outputId": "f53a9660-b65f-4191-e2cf-47344e438d0a"
   },
   "outputs": [
    {
     "name": "stdout",
     "output_type": "stream",
     "text": [
      "+-------+-------+------------------+-----------------+-----------------+----------+\n",
      "|min_age|max_age|          mean_age|     variance_age|       stddev_age|median_age|\n",
      "+-------+-------+------------------+-----------------+-----------------+----------+\n",
      "|     29|     77|54.420529801324506|81.86575652900926|9.047969746247457|        55|\n",
      "+-------+-------+------------------+-----------------+-----------------+----------+\n",
      "\n"
     ]
    }
   ],
   "source": [
    "# Tính các chỉ số thống kê cơ bản cho cột Age\n",
    "age_sumary = data_visual.select(\n",
    "    F.min(\"Age\").alias(\"min_age\"),\n",
    "    F.max(\"Age\").alias(\"max_age\"),\n",
    "    F.mean(\"Age\").alias(\"mean_age\"),\n",
    "    F.variance(\"Age\").alias(\"variance_age\"),\n",
    "    F.stddev(\"Age\").alias(\"stddev_age\"),\n",
    "    F.expr(\"percentile_approx(Age, 0.5)\").alias(\"median_age\"),\n",
    ")\n",
    "age_sumary.show()"
   ]
  },
  {
   "cell_type": "markdown",
   "id": "g_I4QugNOrqk",
   "metadata": {
    "id": "g_I4QugNOrqk"
   },
   "source": [
    "# Thống kê các chỉ số ảnh hưởng đến kết quả bệnh tim"
   ]
  },
  {
   "cell_type": "code",
   "execution_count": 11,
   "id": "Yqx_mA-WiRhQ",
   "metadata": {
    "colab": {
     "base_uri": "https://localhost:8080/"
    },
    "id": "Yqx_mA-WiRhQ",
    "outputId": "3a7d6358-3504-40dd-90bd-a4bea9e9f1c0"
   },
   "outputs": [
    {
     "name": "stdout",
     "output_type": "stream",
     "text": [
      "+---------+------+-----+----------+\n",
      "|Age_Range|Target|count|percentage|\n",
      "+---------+------+-----+----------+\n",
      "|    20-30|     1|    1|    100.00|\n",
      "|    30-40|     1|   10|     71.43|\n",
      "|    30-40|     0|    4|     28.57|\n",
      "|    40-50|     1|   50|     69.44|\n",
      "|    40-50|     0|   22|     30.56|\n",
      "|    50-60|     0|   60|     48.00|\n",
      "|    50-60|     1|   65|     52.00|\n",
      "|    60-70|     0|   48|     60.00|\n",
      "|    60-70|     1|   32|     40.00|\n",
      "|    70-80|     0|    4|     40.00|\n",
      "|    70-80|     1|    6|     60.00|\n",
      "+---------+------+-----+----------+\n",
      "\n"
     ]
    }
   ],
   "source": [
    "# Tính tỷ lệ mắc bệnh tim theo huyết áp theo độ tuổi\n",
    "data_visual.createOrReplaceTempView(\"heart_disease\")\n",
    "query = \"\"\"\n",
    "    SELECT\n",
    "        CONCAT(CAST(Age_Group * 10 AS STRING), '-', CAST(Age_Group * 10 + 10 AS STRING)) AS Age_Range,\n",
    "        Target,\n",
    "        COUNT(*) AS count,\n",
    "        ROUND(COUNT(*) * 100.0 / SUM(COUNT(*)) OVER(PARTITION BY Age_Group), 2) AS percentage\n",
    "    FROM (\n",
    "        SELECT\n",
    "            FLOOR(Age / 10) AS Age_Group,\n",
    "            Target\n",
    "        FROM heart_disease\n",
    "    ) sub\n",
    "    GROUP BY Age_Group, Target\n",
    "    ORDER BY Age_Group;\n",
    "\"\"\"\n",
    "\n",
    "result_age_target = spark.sql(query)\n",
    "result_age_target.show()\n"
   ]
  },
  {
   "cell_type": "code",
   "execution_count": 12,
   "id": "69opiixkiS8q",
   "metadata": {
    "colab": {
     "base_uri": "https://localhost:8080/"
    },
    "id": "69opiixkiS8q",
    "outputId": "64f7e329-783a-42e7-a929-0077c39f7253"
   },
   "outputs": [
    {
     "name": "stdout",
     "output_type": "stream",
     "text": [
      "+-------------------+------+-----+----------+\n",
      "|Fasting_Blood_Sugar|Target|count|percentage|\n",
      "+-------------------+------+-----+----------+\n",
      "|                  0|     0|  116|     45.14|\n",
      "|                  0|     1|  141|     54.86|\n",
      "|                  1|     0|   22|     48.89|\n",
      "|                  1|     1|   23|     51.11|\n",
      "+-------------------+------+-----+----------+\n",
      "\n"
     ]
    }
   ],
   "source": [
    "# Tính tỷ lệ mắc bệnh tim theo mức đường huyết\n",
    "query = \"\"\"\n",
    "    SELECT\n",
    "        Fasting_Blood_Sugar,\n",
    "        Target,\n",
    "        COUNT(*) AS count,\n",
    "        ROUND(COUNT(*) * 100.0 / SUM(COUNT(*)) OVER(PARTITION BY Fasting_Blood_Sugar), 2) AS percentage\n",
    "    FROM heart_disease\n",
    "    GROUP BY Fasting_Blood_Sugar, Target\n",
    "    ORDER BY Fasting_Blood_Sugar, Target\n",
    "\"\"\"\n",
    "\n",
    "result_fasting_blood_sugar_target = spark.sql(query)\n",
    "result_fasting_blood_sugar_target.show()\n"
   ]
  },
  {
   "cell_type": "code",
   "execution_count": 13,
   "id": "_SyD9LdViUeT",
   "metadata": {
    "colab": {
     "base_uri": "https://localhost:8080/"
    },
    "id": "_SyD9LdViUeT",
    "outputId": "e1f87008-9140-464f-f1bb-e15fe594820e"
   },
   "outputs": [
    {
     "name": "stdout",
     "output_type": "stream",
     "text": [
      "+----------+------+-----+----------+\n",
      "|Chest Pain|Target|count|percentage|\n",
      "+----------+------+-----+----------+\n",
      "|         0|     0|  104|     72.73|\n",
      "|         0|     1|   39|     27.27|\n",
      "|         1|     0|    9|     18.00|\n",
      "|         1|     1|   41|     82.00|\n",
      "|         2|     0|   18|     20.93|\n",
      "|         2|     1|   68|     79.07|\n",
      "|         3|     0|    7|     30.43|\n",
      "|         3|     1|   16|     69.57|\n",
      "+----------+------+-----+----------+\n",
      "\n"
     ]
    }
   ],
   "source": [
    "# Tính tỷ lệ mắc bệnh tim theo loại cơn đau ngực\n",
    "query = \"\"\"\n",
    "    SELECT\n",
    "        `Chest Pain`,\n",
    "        Target,\n",
    "        COUNT(*) AS count,\n",
    "        ROUND(COUNT(*) * 100.0 / SUM(COUNT(*)) OVER(PARTITION BY `Chest Pain`), 2) AS percentage\n",
    "    FROM heart_disease\n",
    "    GROUP BY `Chest Pain`, Target\n",
    "    ORDER BY `Chest Pain`, Target\n",
    "\"\"\"\n",
    "\n",
    "result_chest_pain_target = spark.sql(query)\n",
    "result_chest_pain_target.show()\n"
   ]
  },
  {
   "cell_type": "code",
   "execution_count": 14,
   "id": "mLAd-753iVnT",
   "metadata": {
    "colab": {
     "base_uri": "https://localhost:8080/"
    },
    "id": "mLAd-753iVnT",
    "outputId": "4717b1d7-76c4-42f8-85c6-068097bb2a9a"
   },
   "outputs": [
    {
     "name": "stdout",
     "output_type": "stream",
     "text": [
      "+----------------+------+-----+----------+\n",
      "|Resting_BP_Range|Target|count|percentage|\n",
      "+----------------+------+-----+----------+\n",
      "|          50-100|     1|    2|    100.00|\n",
      "|         100-150|     0|  109|     43.78|\n",
      "|         100-150|     1|  140|     56.22|\n",
      "|         150-200|     1|   22|     44.00|\n",
      "|         150-200|     0|   28|     56.00|\n",
      "|         200-250|     0|    1|    100.00|\n",
      "+----------------+------+-----+----------+\n",
      "\n"
     ]
    }
   ],
   "source": [
    "# Tính tỷ lệ mắc bệnh tim theo huyết áp khi nghỉ ngơi\n",
    "query = \"\"\"\n",
    "    SELECT\n",
    "        CONCAT(CAST(BP_Group * 50 AS STRING), '-', CAST(BP_Group * 50 + 50 AS STRING)) AS Resting_BP_Range,\n",
    "        Target,\n",
    "        COUNT(*) AS count,\n",
    "        ROUND(COUNT(*) * 100.0 / SUM(COUNT(*)) OVER(PARTITION BY BP_Group), 2) AS percentage\n",
    "    FROM (\n",
    "        SELECT\n",
    "            FLOOR(Resting_BP / 50) AS BP_Group,\n",
    "            Target\n",
    "        FROM heart_disease\n",
    "    ) sub\n",
    "    GROUP BY BP_Group, Target\n",
    "    ORDER BY BP_Group;\n",
    "\"\"\"\n",
    "\n",
    "result_resting_bp_target = spark.sql(query)\n",
    "result_resting_bp_target.show()\n"
   ]
  },
  {
   "cell_type": "code",
   "execution_count": 15,
   "id": "bGqZW00-iWkE",
   "metadata": {
    "colab": {
     "base_uri": "https://localhost:8080/"
    },
    "id": "bGqZW00-iWkE",
    "outputId": "03d78eae-bea5-4733-9141-6e7bc67deb6b"
   },
   "outputs": [
    {
     "name": "stdout",
     "output_type": "stream",
     "text": [
      "+-----------------------+------+-----+----------+\n",
      "|Exercise_Induced_Angina|Target|count|percentage|\n",
      "+-----------------------+------+-----+----------+\n",
      "|                      0|     0|   62|     30.54|\n",
      "|                      0|     1|  141|     69.46|\n",
      "|                      1|     0|   76|     76.77|\n",
      "|                      1|     1|   23|     23.23|\n",
      "+-----------------------+------+-----+----------+\n",
      "\n"
     ]
    }
   ],
   "source": [
    "# Tính tỷ lệ mắc bệnh tim khi tập thể dục\n",
    "query = \"\"\"\n",
    "    SELECT\n",
    "        Exercise_Induced_Angina,\n",
    "        Target,\n",
    "        COUNT(*) AS count,\n",
    "        ROUND(COUNT(*) * 100.0 / SUM(COUNT(*)) OVER(PARTITION BY Exercise_Induced_Angina), 2) AS percentage\n",
    "    FROM heart_disease\n",
    "    GROUP BY Exercise_Induced_Angina, Target\n",
    "    ORDER BY Exercise_Induced_Angina, Target\n",
    "\"\"\"\n",
    "\n",
    "result_exercise_angina_target = spark.sql(query)\n",
    "result_exercise_angina_target.show()\n"
   ]
  },
  {
   "cell_type": "code",
   "execution_count": 16,
   "id": "rbFFZk83iXrH",
   "metadata": {
    "colab": {
     "base_uri": "https://localhost:8080/"
    },
    "id": "rbFFZk83iXrH",
    "outputId": "d1615b14-6bcb-4bd9-e41b-92ea5b74aa62"
   },
   "outputs": [
    {
     "name": "stdout",
     "output_type": "stream",
     "text": [
      "+----------------+------+-----+----------+\n",
      "|Cholestrol_Range|Target|count|percentage|\n",
      "+----------------+------+-----+----------+\n",
      "|         100-150|     0|    2|     40.00|\n",
      "|         100-150|     1|    3|     60.00|\n",
      "|         150-200|     0|   18|     40.91|\n",
      "|         150-200|     1|   26|     59.09|\n",
      "|         200-250|     0|   50|     40.32|\n",
      "|         200-250|     1|   74|     59.68|\n",
      "|         250-300|     0|   47|     55.29|\n",
      "|         250-300|     1|   38|     44.71|\n",
      "|         300-350|     0|   18|     50.00|\n",
      "|         300-350|     1|   18|     50.00|\n",
      "|         350-400|     0|    1|     25.00|\n",
      "|         350-400|     1|    3|     75.00|\n",
      "|         400-450|     0|    2|     66.67|\n",
      "|         400-450|     1|    1|     33.33|\n",
      "|         550-600|     1|    1|    100.00|\n",
      "+----------------+------+-----+----------+\n",
      "\n"
     ]
    }
   ],
   "source": [
    "#Tính tỷ lệ mắc bệnh tim theo Cholestrol\n",
    "query = \"\"\"\n",
    "    SELECT\n",
    "        CONCAT(CAST(Chol_Group * 50 AS STRING), '-', CAST(Chol_Group * 50 + 50 AS STRING)) AS Cholestrol_Range,\n",
    "        Target,\n",
    "        COUNT(*) AS count,\n",
    "        ROUND(COUNT(*) * 100.0 / SUM(COUNT(*)) OVER(PARTITION BY Chol_Group), 2) AS percentage\n",
    "    FROM (\n",
    "        SELECT\n",
    "            FLOOR(Cholestrol / 50) AS Chol_Group,\n",
    "            Target\n",
    "        FROM heart_disease\n",
    "    ) sub\n",
    "    GROUP BY Chol_Group, Target\n",
    "    ORDER BY Chol_Group, Target;\n",
    "\"\"\"\n",
    "\n",
    "result_cholesterol_range = spark.sql(query)\n",
    "result_cholesterol_range.show()\n"
   ]
  },
  {
   "cell_type": "markdown",
   "id": "KssgmWwTjLhD",
   "metadata": {
    "id": "KssgmWwTjLhD"
   },
   "source": [
    "# Chạy thuật toán"
   ]
  },
  {
   "cell_type": "code",
   "execution_count": 17,
   "id": "JDS-cmHOfhzo",
   "metadata": {
    "id": "JDS-cmHOfhzo"
   },
   "outputs": [],
   "source": [
    "data_rdd = data.rdd.map(lambda row: \",\".join(map(str, row)))"
   ]
  },
  {
   "cell_type": "code",
   "execution_count": 18,
   "id": "MvNNl-CTZoiO",
   "metadata": {
    "colab": {
     "base_uri": "https://localhost:8080/"
    },
    "id": "MvNNl-CTZoiO",
    "outputId": "faaa40f9-20dd-4c2c-8d4e-9715dc00f729"
   },
   "outputs": [
    {
     "name": "stderr",
     "output_type": "stream",
     "text": [
      "                                                                                \r"
     ]
    },
    {
     "data": {
      "text/plain": [
       "['49,1,2,120,188,0,1,139,0,2.0,1,3,3,0',\n",
       " '57,0,1,130,236,0,0,174,0,0.0,1,1,2,0',\n",
       " '59,1,0,170,326,0,0,140,1,3.4,0,0,3,0']"
      ]
     },
     "execution_count": 18,
     "metadata": {},
     "output_type": "execute_result"
    }
   ],
   "source": [
    "data_rdd.take(3)"
   ]
  },
  {
   "cell_type": "code",
   "execution_count": 19,
   "id": "oTn5BjC6Zl6z",
   "metadata": {
    "id": "oTn5BjC6Zl6z"
   },
   "outputs": [],
   "source": [
    "# Xử lý dữ liệu thành dạng RDD [(label, [features])]\n",
    "header = data_rdd.first()\n",
    "data_rdd = data_rdd.map(lambda line: line.split(\",\")) \\\n",
    "    .map(lambda fields: (int(fields[-1]), list(map(float, fields[:-1]))))  # label, features"
   ]
  },
  {
   "cell_type": "code",
   "execution_count": 20,
   "id": "qOUBWjovYXc0",
   "metadata": {
    "colab": {
     "base_uri": "https://localhost:8080/"
    },
    "id": "qOUBWjovYXc0",
    "outputId": "a355ee64-646e-454f-e630-38d6a9151609"
   },
   "outputs": [
    {
     "data": {
      "text/plain": [
       "[(0, [49.0, 1.0, 2.0, 120.0, 188.0, 0.0, 1.0, 139.0, 0.0, 2.0, 1.0, 3.0, 3.0]),\n",
       " (0, [57.0, 0.0, 1.0, 130.0, 236.0, 0.0, 0.0, 174.0, 0.0, 0.0, 1.0, 1.0, 2.0]),\n",
       " (0, [59.0, 1.0, 0.0, 170.0, 326.0, 0.0, 0.0, 140.0, 1.0, 3.4, 0.0, 0.0, 3.0]),\n",
       " (1, [40.0, 1.0, 3.0, 140.0, 199.0, 0.0, 1.0, 178.0, 1.0, 1.4, 2.0, 0.0, 3.0]),\n",
       " (1, [51.0, 0.0, 2.0, 130.0, 256.0, 0.0, 0.0, 149.0, 0.0, 0.5, 2.0, 0.0, 2.0])]"
      ]
     },
     "execution_count": 20,
     "metadata": {},
     "output_type": "execute_result"
    }
   ],
   "source": [
    "data_rdd.take(5)"
   ]
  },
  {
   "cell_type": "code",
   "execution_count": 21,
   "id": "cae330aa-40b1-4a3c-867d-ba23ee13a310",
   "metadata": {
    "id": "cae330aa-40b1-4a3c-867d-ba23ee13a310"
   },
   "outputs": [],
   "source": [
    "def bootstrap_sample_partition(partition_data, sample_fraction):\n",
    "    \"\"\"\n",
    "    Lấy mẫu bootstrap từ dữ liệu trong một phân vùng.\n",
    "    \"\"\"\n",
    "    partition_data_list = list(partition_data)\n",
    "    n = len(partition_data_list)\n",
    "    sample_size = int(n * sample_fraction)\n",
    "    if n > 0:\n",
    "        return [partition_data_list[random.randint(0, n - 1)] for _ in range(sample_size)]\n",
    "    return []"
   ]
  },
  {
   "cell_type": "code",
   "execution_count": 22,
   "id": "fd892fac-1385-4c3b-a085-9d04b27abef7",
   "metadata": {
    "id": "fd892fac-1385-4c3b-a085-9d04b27abef7"
   },
   "outputs": [],
   "source": [
    "def gini_impurity(groups, classes):\n",
    "    \"\"\"\n",
    "    Tính chỉ số Gini cho các nhóm sau khi split\n",
    "    \"\"\"\n",
    "    n_instances = sum([len(group) for group in groups])\n",
    "    gini = 0.0\n",
    "    for group in groups:\n",
    "        size = len(group)\n",
    "        if size == 0:\n",
    "            continue\n",
    "        score = 0.0\n",
    "        for class_val in classes:\n",
    "            proportion = [row[0] for row in group].count(class_val) / size\n",
    "            score += proportion ** 2\n",
    "        gini += (1.0 - score) * (size / n_instances)\n",
    "    return gini"
   ]
  },
  {
   "cell_type": "code",
   "execution_count": 23,
   "id": "7401a24f-cc98-415f-ac34-473c0225cdec",
   "metadata": {
    "id": "7401a24f-cc98-415f-ac34-473c0225cdec"
   },
   "outputs": [],
   "source": [
    "def split_node(data, feature_index, threshold):\n",
    "    \"\"\"\n",
    "    Chia dữ liệu dựa trên một ngưỡng của đặc trưng\n",
    "    \"\"\"\n",
    "    left = [row for row in data if row[1][feature_index] < threshold]\n",
    "    right = [row for row in data if row[1][feature_index] >= threshold]\n",
    "    return left, right"
   ]
  },
  {
   "cell_type": "code",
   "execution_count": 24,
   "id": "61fea02d-fb7d-4791-99e5-3a669c42bcff",
   "metadata": {
    "id": "61fea02d-fb7d-4791-99e5-3a669c42bcff"
   },
   "outputs": [],
   "source": [
    "def find_best_split(data, feature_indices):\n",
    "    \"\"\"\n",
    "    Tìm điểm split tốt nhất với chỉ xét các đặc trưng trong feature_indices.\n",
    "    \"\"\"\n",
    "    classes = list(set([row[0] for row in data]))\n",
    "    b_index, b_value, b_groups = None, None, None\n",
    "    b_score = float('inf')\n",
    "    for feature_index in feature_indices:\n",
    "        for row in data:\n",
    "            groups = split_node(data, feature_index, row[1][feature_index])\n",
    "            gini = gini_impurity(groups, classes)\n",
    "            if gini < b_score:\n",
    "                b_index, b_value, b_score, b_groups = feature_index, row[1][feature_index], gini, groups\n",
    "    return {'index': b_index, 'value': b_value, 'groups': b_groups}"
   ]
  },
  {
   "cell_type": "code",
   "execution_count": 25,
   "id": "23234f45-b5d8-4618-af31-3853e0935d8e",
   "metadata": {
    "id": "23234f45-b5d8-4618-af31-3853e0935d8e"
   },
   "outputs": [],
   "source": [
    "def build_tree(data, max_depth, min_size, depth=0, n_features=None):\n",
    "    \"\"\"\n",
    "    Xây dựng cây quyết định đệ quy\n",
    "    \"\"\"\n",
    "    classes = [row[0] for row in data]\n",
    "    if len(set(classes)) == 1 or depth >= max_depth or len(data) <= min_size:\n",
    "        return max(set(classes), key=classes.count)\n",
    "\n",
    "    # Chọn ngẫu nhiên n_features đặc trưng để chia\n",
    "    feature_indices = random.sample(range(len(data[0][1])), n_features)\n",
    "\n",
    "    node = find_best_split(data, feature_indices)\n",
    "    left, right = node['groups']\n",
    "    node['left'] = build_tree(left, max_depth, min_size, depth + 1, n_features)\n",
    "    node['right'] = build_tree(right, max_depth, min_size, depth + 1, n_features)\n",
    "    return node"
   ]
  },
  {
   "cell_type": "code",
   "execution_count": 26,
   "id": "5e9bba22-d1d1-4a3d-bf7e-8b8b593b9473",
   "metadata": {
    "id": "5e9bba22-d1d1-4a3d-bf7e-8b8b593b9473"
   },
   "outputs": [],
   "source": [
    "# Xử lý MapReduce để xây dựng cây quyết định từ mỗi phân vùng dữ liệu\n",
    "def map_reduce_process(partition_data, max_depth, min_size, n_features, sample_fraction):\n",
    "    \"\"\"\n",
    "    Huấn luyện cây quyết định trên mẫu bootstrap từ mỗi phân vùng dữ liệu.\n",
    "    \"\"\"\n",
    "    bootstrap_data = bootstrap_sample_partition(partition_data, sample_fraction)\n",
    "    if bootstrap_data:\n",
    "        tree = build_tree(bootstrap_data, max_depth, min_size, n_features=n_features)\n",
    "        return [tree]\n",
    "    return []"
   ]
  },
  {
   "cell_type": "code",
   "execution_count": 27,
   "id": "a68c75fe-30ab-4972-b0d0-2ea98bb98c57",
   "metadata": {
    "id": "a68c75fe-30ab-4972-b0d0-2ea98bb98c57"
   },
   "outputs": [],
   "source": [
    "# Dự đoán với một cây quyết định\n",
    "def predict_tree(tree, row):\n",
    "    \"\"\"\n",
    "    Dự đoán một hàng dữ liệu dựa vào cây quyết định\n",
    "    \"\"\"\n",
    "    if row[tree['index']] < tree['value']:\n",
    "        if isinstance(tree['left'], dict):\n",
    "            return predict_tree(tree['left'], row)\n",
    "        else:\n",
    "            return tree['left']\n",
    "    else:\n",
    "        if isinstance(tree['right'], dict):\n",
    "            return predict_tree(tree['right'], row)\n",
    "        else:\n",
    "            return tree['right']\n"
   ]
  },
  {
   "cell_type": "code",
   "execution_count": 28,
   "id": "255f7d51-6558-4c03-9e06-52f84b1c0d7e",
   "metadata": {
    "id": "255f7d51-6558-4c03-9e06-52f84b1c0d7e"
   },
   "outputs": [],
   "source": [
    "# Dự đoán với Random Forest\n",
    "def predict_forest(trees, row):\n",
    "    \"\"\"\n",
    "    Dự đoán bằng cách lấy mode từ các cây trong Random Forest\n",
    "    \"\"\"\n",
    "    predictions = [predict_tree(tree, row[1]) for tree in trees]\n",
    "    return max(set(predictions), key=predictions.count)"
   ]
  },
  {
   "cell_type": "code",
   "execution_count": 29,
   "id": "95fe26b6-53f3-4009-a60a-3c30418d2be2",
   "metadata": {
    "id": "95fe26b6-53f3-4009-a60a-3c30418d2be2"
   },
   "outputs": [],
   "source": [
    "# Chia dữ liệu train-test\n",
    "train_rdd, test_rdd = data_rdd.randomSplit([0.8, 0.2])"
   ]
  },
  {
   "cell_type": "code",
   "execution_count": 30,
   "id": "346ebbe0-9497-4de4-9dbf-1b84948a4bbc",
   "metadata": {
    "id": "346ebbe0-9497-4de4-9dbf-1b84948a4bbc"
   },
   "outputs": [],
   "source": [
    "# Huấn luyện Random Forest bằng MapReduce\n",
    "max_depth = 5\n",
    "min_size = 10\n",
    "n_features = int(sqrt(len(train_rdd.first()[1])))  # Chọn số đặc trưng ngẫu nhiên tại mỗi nút"
   ]
  },
  {
   "cell_type": "code",
   "execution_count": 31,
   "id": "adbe2aa0-9c5f-4feb-b7fe-1d0820fbfee9",
   "metadata": {
    "id": "adbe2aa0-9c5f-4feb-b7fe-1d0820fbfee9"
   },
   "outputs": [],
   "source": [
    "# Sử dụng Bootstrap Sampling và huấn luyện cây cho mỗi mẫu bootstrap\n",
    "trees_rdd = train_rdd.mapPartitions(\n",
    "    lambda partition_data: map_reduce_process(\n",
    "        partition_data, max_depth, min_size, n_features, 1\n",
    "    )\n",
    ")"
   ]
  },
  {
   "cell_type": "code",
   "execution_count": 32,
   "id": "f69c9340-4f77-49cf-a37f-072372dcac59",
   "metadata": {
    "id": "f69c9340-4f77-49cf-a37f-072372dcac59"
   },
   "outputs": [],
   "source": [
    "# Lấy ra n cây quyết định từ các phân vùng\n",
    "num_partitions = train_rdd.getNumPartitions()\n",
    "forest = trees_rdd.take(num_partitions)"
   ]
  },
  {
   "cell_type": "code",
   "execution_count": 33,
   "id": "3a7a0a19-6995-4716-b680-ecf2423dcd18",
   "metadata": {
    "id": "3a7a0a19-6995-4716-b680-ecf2423dcd18"
   },
   "outputs": [],
   "source": [
    "# Dự đoán trên test set\n",
    "predictions = test_rdd.map(lambda row: (row[0], predict_forest(forest, row)))"
   ]
  },
  {
   "cell_type": "code",
   "execution_count": 34,
   "id": "66bb1c6f-1830-4d76-aefd-875e9e0592c6",
   "metadata": {
    "colab": {
     "base_uri": "https://localhost:8080/"
    },
    "id": "66bb1c6f-1830-4d76-aefd-875e9e0592c6",
    "outputId": "24fc2d3e-2700-4c49-d76d-dd792e05a285"
   },
   "outputs": [
    {
     "name": "stdout",
     "output_type": "stream",
     "text": [
      "Accuracy: 0.71\n"
     ]
    }
   ],
   "source": [
    "# Tính accuracy bằng cách sử dụng map và reduce\n",
    "correct_predictions = predictions.map(lambda x: 1 if x[0] == x[1] else 0).reduce(lambda a, b: a + b)\n",
    "total_predictions = predictions.count()\n",
    "\n",
    "accuracy = correct_predictions / total_predictions\n",
    "print(f\"Accuracy: {accuracy:.2f}\")"
   ]
  },
  {
   "cell_type": "code",
   "execution_count": 35,
   "id": "8929403d-15fd-46f1-b0a1-c45d3ac66360",
   "metadata": {
    "colab": {
     "base_uri": "https://localhost:8080/"
    },
    "id": "8929403d-15fd-46f1-b0a1-c45d3ac66360",
    "outputId": "ca43c8b0-0d96-45c5-ff0b-95c213433a08"
   },
   "outputs": [
    {
     "name": "stdout",
     "output_type": "stream",
     "text": [
      "F1-Score: 0.73\n"
     ]
    }
   ],
   "source": [
    "# Hàm để tính toán TP, FP, FN, TN\n",
    "def calculate_metrics(row):\n",
    "    actual, predicted = row[0], row[1]\n",
    "    if actual == 1 and predicted == 1:\n",
    "        return (1, 0, 0, 0)  # (TP, FP, FN, TN)\n",
    "    elif actual == 0 and predicted == 1:\n",
    "        return (0, 1, 0, 0)  # (TP, FP, FN, TN)\n",
    "    elif actual == 1 and predicted == 0:\n",
    "        return (0, 0, 1, 0)  # (TP, FP, FN, TN)\n",
    "    elif actual == 0 and predicted == 0:\n",
    "        return (0, 0, 0, 1)  # (TP, FP, FN, TN)\n",
    "    else:\n",
    "        return (0, 0, 0, 0)\n",
    "\n",
    "# Tính toán phân tán mà không sử dụng collect\n",
    "metrics_rdd = predictions.map(calculate_metrics)\n",
    "\n",
    "# Hàm kết hợp để tính toán tổng hợp TP, FP, FN, TN\n",
    "def seqOp(acc, value):\n",
    "    return (acc[0] + value[0],  # TP\n",
    "            acc[1] + value[1],  # FP\n",
    "            acc[2] + value[2],  # FN\n",
    "            acc[3] + value[3])  # TN\n",
    "\n",
    "# Hàm để kết hợp kết quả từ các phân vùng\n",
    "def combOp(acc1, acc2):\n",
    "    return (acc1[0] + acc2[0],  # TP\n",
    "            acc1[1] + acc2[1],  # FP\n",
    "            acc1[2] + acc2[2],  # FN\n",
    "            acc1[3] + acc2[3])  # TN\n",
    "\n",
    "# Áp dụng aggregate để tính toán trên toàn bộ phân vùng\n",
    "total_metrics = metrics_rdd.aggregate(\n",
    "    (0, 0, 0, 0),  # Giá trị khởi tạo (TP, FP, FN, TN)\n",
    "    seqOp,  # Phép toán tính toán trong mỗi phân vùng\n",
    "    combOp   # Phép toán kết hợp kết quả giữa các phân vùng\n",
    ")\n",
    "\n",
    "# Lấy TP, FP, FN, TN\n",
    "tp, fp, fn, tn = total_metrics\n",
    "\n",
    "# Tính toán Precision, Recall và F1-Score\n",
    "precision = tp / (tp + fp) if tp + fp > 0 else 0.0\n",
    "recall = tp / (tp + fn) if tp + fn > 0 else 0.0\n",
    "f1_score = 2 * (precision * recall) / (precision + recall) if precision + recall > 0 else 0.0\n",
    "\n",
    "# In kết quả\n",
    "print(f\"F1-Score: {f1_score:.2f}\")\n"
   ]
  }
 ],
 "metadata": {
  "colab": {
   "provenance": []
  },
  "kernelspec": {
   "display_name": "Python 3 (ipykernel)",
   "language": "python",
   "name": "python3"
  },
  "language_info": {
   "codemirror_mode": {
    "name": "ipython",
    "version": 3
   },
   "file_extension": ".py",
   "mimetype": "text/x-python",
   "name": "python",
   "nbconvert_exporter": "python",
   "pygments_lexer": "ipython3",
   "version": "3.12.3"
  }
 },
 "nbformat": 4,
 "nbformat_minor": 5
}
